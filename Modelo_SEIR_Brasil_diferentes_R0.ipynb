###### Paquetes y librerias a importar ######################
 
import numpy as np
import scipy as sp
from scipy.integrate import odeint
import matplotlib.pyplot as plt
import pandas as pd
 
###### Valor de las constantes a utiizar ####################
 
alpha = 1.6e-5
beta = 0.80
phi = 1e-5
kappa = 0.5
delta = 0.5
omega = 0.1923
gamma = 0.1724
 
######## valor variable de algunas constantes ################
 
########### Escenario 0 ####################################
 
sigma = 0.0
v = 0.0
R_0 = (beta*(1+kappa) + omega)/(2*gamma)  
print(R_0) 
########### Escenario 1 ####################################
 
sigma_1 = 0.2
v_1 = 0.0
R_0_1 = (beta*(1+kappa) + omega)/(2*gamma + sigma_1)
print(R_0_1)
########### Escenario 2 ####################################
 
sigma_2 = 0.3
v_2 = 0.0
R_0_1 = (beta*(1+kappa) + omega)/(2*gamma + sigma_2 + v_2)
print(R_0_2) 
########### Escenario 3 ####################################
 
sigma_3 = 0.3
v_3 = 0.3
R_0_3 =  (beta*(1+kappa) + omega)/(2*(gamma + sigma_3) + v_3) 
print(R_0_3) 
################# Definimos las ecuaciones diferenciales acopladas a resolver #####################
 
def equations_systems_0(equations,t):
    S, E, I_s, I_a, R = equations
    dS_t = alpha - (phi*S) - beta*S*(I_s + (kappa*I_a))
    dE_t = beta*S*(I_s + (kappa*I_a)) - ((1 - delta)*omega*E) - delta*omega*E - phi*E
    dI_s_t = (1-delta)*omega*E - gamma*I_s - phi*I_s 
    dI_a_t = (delta*omega*E) - gamma*I_a - phi*I_a 
    dR_t = gamma*I_s + gamma*I_a - phi*R
    return dS_t, dE_t, dI_s_t, dI_a_t, dR_t 

################# Definimos las ecuaciones diferenciales acopladas a resolver #####################
 
def equations_systems_0(equations,t):
    S, E, I_s, I_a, R = equations
    dS_t = alpha - (phi*S) - beta*S*(I_s + (kappa*I_a))
    dE_t = beta*S*(I_s + (kappa*I_a)) - ((1 - delta)*omega*E) - delta*omega*E - phi*E
    dI_s_t = (1-delta)*omega*E - gamma*I_s - phi*I_s 
    dI_a_t = (delta*omega*E) - gamma*I_a - phi*I_a 
    dR_t = gamma*I_s + gamma*I_a - phi*R
    return dS_t, dE_t, dI_s_t, dI_a_t, dR_t 
 
def equations_systems_1(equations,t):
    S, E, I_s, I_a, R = equations
    dS_t = alpha - (phi*S) - beta*S*(I_s + (kappa*I_a))
    dE_t = beta*S*(I_s + (kappa*I_a)) - ((1 - delta)*omega*E) - delta*omega*E - phi*E
    dI_s_t = (1-delta)*omega*E - gamma*I_s - phi*sigma_1*I_s - sigma_1*I_s
    dI_a_t = (delta*omega*E) - gamma*I_a - phi*I_a
    dR_t = gamma*I_s + gamma*I_a - phi*R + sigma_1*I_s
    return dS_t, dE_t, dI_s_t, dI_a_t, dR_t 
 
def equations_systems_2(equations,t):
    S, E, I_s, I_a, R = equations
    dS_t = alpha - (phi*S) - beta*S*(I_s + (kappa*I_a))
    dE_t = beta*S*(I_s + (kappa*I_a)) - ((1 - delta)*omega*E) - delta*omega*E - phi*E - v_2*E
    dI_s_t = (1-delta)*omega*E - gamma*I_s - phi*I_s - sigma_2*I_s
    dI_a_t = (delta*omega*E) - gamma*I_a - phi*I_a 
    dR_t = gamma*I_s + gamma*I_a - phi*R + sigma_2*I_s + v_2*E
    return dS_t, dE_t, dI_s_t, dI_a_t, dR_t 
 
def equations_systems_3(equations,t):
    S, E, I_s, I_a, R = equations
    dS_t = alpha - (phi*S) - beta*S*(I_s + (kappa*I_a))
    dE_t = beta*S*(I_s + (kappa*I_a)) - ((1 - delta)*omega*E) - delta*omega*E - phi*E - v_3*E
    dI_s_t = (1-delta)*omega*E - gamma*I_s - phi*I_s - sigma_3*I_s
    dI_a_t = (delta*omega*E) - gamma*I_a - phi*I_a - v_3*I_a
    dR_t = gamma*I_s + gamma*I_a - phi*R + sigma_3*I_s + v_3*E + v_3*I_a 
    return dS_t, dE_t, dI_s_t, dI_a_t, dR_t 
 
S0 = 10.0
E0 = 0.0
I_s0 = 5e-7
I_a0 = 0.0
R0 = 0.0
 
initial_values = S0, E0, I_s0, I_a0, R0
 
t = np.linspace(0,600,num=3000)
 
sol=odeint(equations_systems_0, initial_values, t)
sol_1=odeint(equations_systems_1, initial_values, t)
sol_2=odeint(equations_systems_2, initial_values, t)
sol_3=odeint(equations_systems_3, initial_values, t)
 

plt.rcParams['figure.figsize'] = 14, 8
SMALL_SIZE = 20
plt.rc('font', size=SMALL_SIZE)
plt.rc('axes', titlesize=SMALL_SIZE)

plt.plot(t, sol[:, 0], label="R0 = 4.03", linewidth=4)
plt.plot(t, sol_1[:, 0], label="R0 = 2.55", linewidth=4)
plt.plot(t, sol_2[:, 0], label="R0 = 2.20", linewidth=4)
plt.plot(t, sol_3[:, 0], label="R0 = 1.12", linewidth=4)
plt.xlim([0, 100])
plt.xlabel('Time [days]')
plt.ylabel('Poportion of susceptible cases')
plt.grid("True")
plt.legend()
plt.show()

plt.rcParams['figure.figsize'] = 14, 8
SMALL_SIZE = 20
plt.rc('font', size=SMALL_SIZE)
plt.rc('axes', titlesize=SMALL_SIZE)

plt.plot(t, sol[:, 1], label="R0 = 4.03", linewidth=4)
plt.plot(t, sol_1[:, 1], label="R0 = 2.55", linewidth=4)
plt.plot(t, sol_2[:, 1], label="R0 = 2.20", linewidth=4)
plt.plot(t, sol_3[:, 1], label="R0 = 1.12", linewidth=4)
plt.xlim([0,100])
plt.xlabel('Time [days]')
plt.ylabel('Poportion of exposed cases')
plt.grid("True")
plt.legend()
plt.show()



plt.rcParams['figure.figsize'] = 14, 8
SMALL_SIZE = 20
plt.rc('font', size=SMALL_SIZE)
plt.rc('axes', titlesize=SMALL_SIZE)

plt.plot(t, sol[:, 2], label="R0 = 4.03", linewidth=4)
plt.plot(t, sol_1[:, 2], label="R0 = 2.55", linewidth=4)
plt.plot(t, sol_2[:, 2], label="R0 = 2.20", linewidth=4)
plt.plot(t, sol_3[:, 2], label="R0 = 1.12", linewidth=4)
plt.xlim([0, 100])
plt.xlabel('Time [days]')
plt.ylabel('Proportion of symptomatic infected cases')
plt.grid("True")
plt.legend()
plt.show()

plt.plot(t, sol[:, 3], label="R0 = 4.03", linewidth=4)
plt.plot(t, sol_1[:, 3], label="R0 = 2.55", linewidth=4)
plt.plot(t, sol_2[:, 3], label="R0 = 2.20", linewidth=4)
plt.plot(t, sol_3[:, 3], label="R0 = 1.12", linewidth=4)
plt.xlim([0, 100])
plt.xlabel('Time [days]')
plt.ylabel('Proportion of asymptomatic infected cases')
plt.grid("True")
plt.legend()
plt.show()

plt.plot(t, sol[:, 4], label="R0 = 4.03", linewidth=4)
plt.plot(t, sol_1[:, 4], label="R0 = 2.55", linewidth=4)
plt.plot(t, sol_2[:, 4], label="R0 = 2.20", linewidth=4)
plt.plot(t, sol_3[:, 4], label="R0 = 1.12", linewidth=4)
plt.xlim([0, 100])
plt.xlabel('Time [days]')
plt.ylabel('Proportion of removed cases')
plt.grid("True")
plt.legend()
plt.show()

